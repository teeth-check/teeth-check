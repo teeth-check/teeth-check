{
 "cells": [
  {
   "cell_type": "code",
   "execution_count": 1,
   "id": "75d2cb2e",
   "metadata": {},
   "outputs": [],
   "source": [
    "train_path = \"D:/Oracle/worksheet/data/final/teeth/kyoo_run_0517/train\""
   ]
  },
  {
   "cell_type": "code",
   "execution_count": 2,
   "id": "3525a805",
   "metadata": {},
   "outputs": [],
   "source": [
    "test_path = \"D:/Oracle/worksheet/data/final/teeth/kyoo_run_0517/test\" "
   ]
  },
  {
   "cell_type": "code",
   "execution_count": 4,
   "id": "84bf788f",
   "metadata": {},
   "outputs": [],
   "source": [
    "from tensorflow.keras.preprocessing.image import ImageDataGenerator"
   ]
  },
  {
   "cell_type": "code",
   "execution_count": 6,
   "id": "d5f14ccf",
   "metadata": {},
   "outputs": [],
   "source": [
    "training_datagen = ImageDataGenerator(rescale = 1./255, rotation_range=10, width_shift_range=0.2, height_shift_range=0.2, \n",
    "    shear_range = 0.1, zoom_range = 0.1, horizontal_flip = True, fill_mode='nearest')"
   ]
  },
  {
   "cell_type": "code",
   "execution_count": 7,
   "id": "b452c083",
   "metadata": {},
   "outputs": [],
   "source": [
    "test_datagen = ImageDataGenerator(rescale = .1/255) "
   ]
  },
  {
   "cell_type": "code",
   "execution_count": 8,
   "id": "e0013286",
   "metadata": {},
   "outputs": [
    {
     "name": "stdout",
     "output_type": "stream",
     "text": [
      "Found 401 images belonging to 2 classes.\n"
     ]
    }
   ],
   "source": [
    "training_generator = training_datagen.flow_from_directory(train_path, batch_size=32, \n",
    "                                                          target_size=(64,64), \n",
    "                                                          class_mode='binary') "
   ]
  },
  {
   "cell_type": "code",
   "execution_count": 11,
   "id": "e9137c48",
   "metadata": {},
   "outputs": [
    {
     "name": "stdout",
     "output_type": "stream",
     "text": [
      "Found 105 images belonging to 2 classes.\n"
     ]
    }
   ],
   "source": [
    "test_generator = test_datagen.flow_from_directory(test_path, batch_size=32, \n",
    "                                                         shuffle=True, target_size=(64,64), \n",
    "                                                         class_mode='binary') "
   ]
  },
  {
   "cell_type": "code",
   "execution_count": 13,
   "id": "1dd9c394",
   "metadata": {},
   "outputs": [],
   "source": [
    "from tensorflow.keras.models import Sequential"
   ]
  },
  {
   "cell_type": "code",
   "execution_count": 14,
   "id": "7ecfa257",
   "metadata": {},
   "outputs": [],
   "source": [
    "model = Sequential()"
   ]
  },
  {
   "cell_type": "code",
   "execution_count": 16,
   "id": "5fa5d7b2",
   "metadata": {},
   "outputs": [],
   "source": [
    "from tensorflow.keras.layers import Conv2D, MaxPool2D, Flatten, Dense, Dropout, Dropout, Input, Activation"
   ]
  },
  {
   "cell_type": "code",
   "execution_count": 17,
   "id": "b5b5e32c",
   "metadata": {},
   "outputs": [],
   "source": [
    "model.add(Conv2D(filters=32, kernel_size = (3,3), strides=(1,1), padding='same', input_shape=(64,64,3), activation='relu'))"
   ]
  },
  {
   "cell_type": "code",
   "execution_count": 18,
   "id": "456bdb19",
   "metadata": {},
   "outputs": [],
   "source": [
    "model.add(MaxPool2D(pool_size = (2,2)))"
   ]
  },
  {
   "cell_type": "code",
   "execution_count": 19,
   "id": "2b9fccca",
   "metadata": {},
   "outputs": [],
   "source": [
    "model.add(Conv2D(filters=64, kernel_size = (3,3), strides=(1,1), padding='same', activation='relu'))"
   ]
  },
  {
   "cell_type": "code",
   "execution_count": 20,
   "id": "f417c92c",
   "metadata": {},
   "outputs": [],
   "source": [
    "model.add(MaxPool2D(pool_size = (2,2)))"
   ]
  },
  {
   "cell_type": "code",
   "execution_count": 21,
   "id": "b4f69024",
   "metadata": {},
   "outputs": [],
   "source": [
    "model.add(Conv2D(filters=64, kernel_size = (3,3), strides=(1,1), padding='same', activation='relu'))"
   ]
  },
  {
   "cell_type": "code",
   "execution_count": 22,
   "id": "0d77cbe5",
   "metadata": {},
   "outputs": [],
   "source": [
    "model.add(MaxPool2D(pool_size = (2,2)))"
   ]
  },
  {
   "cell_type": "code",
   "execution_count": 23,
   "id": "b459b0f3",
   "metadata": {},
   "outputs": [],
   "source": [
    "model.add(Flatten())"
   ]
  },
  {
   "cell_type": "code",
   "execution_count": 24,
   "id": "61817b6c",
   "metadata": {},
   "outputs": [],
   "source": [
    "model.add(Dense(512,activation='relu'))"
   ]
  },
  {
   "cell_type": "code",
   "execution_count": 25,
   "id": "51f845c0",
   "metadata": {},
   "outputs": [],
   "source": [
    "model.add(Dense(1,activation='sigmoid'))"
   ]
  },
  {
   "cell_type": "code",
   "execution_count": 26,
   "id": "2d34b547",
   "metadata": {},
   "outputs": [
    {
     "name": "stdout",
     "output_type": "stream",
     "text": [
      "Model: \"sequential\"\n",
      "_________________________________________________________________\n",
      " Layer (type)                Output Shape              Param #   \n",
      "=================================================================\n",
      " conv2d (Conv2D)             (None, 64, 64, 32)        896       \n",
      "                                                                 \n",
      " max_pooling2d (MaxPooling2D  (None, 32, 32, 32)       0         \n",
      " )                                                               \n",
      "                                                                 \n",
      " conv2d_1 (Conv2D)           (None, 32, 32, 64)        18496     \n",
      "                                                                 \n",
      " max_pooling2d_1 (MaxPooling  (None, 16, 16, 64)       0         \n",
      " 2D)                                                             \n",
      "                                                                 \n",
      " conv2d_2 (Conv2D)           (None, 16, 16, 64)        36928     \n",
      "                                                                 \n",
      " max_pooling2d_2 (MaxPooling  (None, 8, 8, 64)         0         \n",
      " 2D)                                                             \n",
      "                                                                 \n",
      " flatten (Flatten)           (None, 4096)              0         \n",
      "                                                                 \n",
      " dense (Dense)               (None, 512)               2097664   \n",
      "                                                                 \n",
      " dense_1 (Dense)             (None, 1)                 513       \n",
      "                                                                 \n",
      "=================================================================\n",
      "Total params: 2,154,497\n",
      "Trainable params: 2,154,497\n",
      "Non-trainable params: 0\n",
      "_________________________________________________________________\n"
     ]
    }
   ],
   "source": [
    "model.summary()"
   ]
  },
  {
   "cell_type": "code",
   "execution_count": 28,
   "id": "a306e321",
   "metadata": {},
   "outputs": [],
   "source": [
    "from tensorflow.keras.callbacks import ReduceLROnPlateau"
   ]
  },
  {
   "cell_type": "code",
   "execution_count": 29,
   "id": "035ae524",
   "metadata": {},
   "outputs": [],
   "source": [
    "rlp_cb = ReduceLROnPlateau(monitor='val_loss',mode='min',patience=1,factor=0.3,verbose=1)"
   ]
  },
  {
   "cell_type": "code",
   "execution_count": 31,
   "id": "2685e411",
   "metadata": {},
   "outputs": [],
   "source": [
    "from tensorflow.keras.callbacks import EarlyStopping"
   ]
  },
  {
   "cell_type": "code",
   "execution_count": 32,
   "id": "8b8e44a8",
   "metadata": {},
   "outputs": [],
   "source": [
    "es_cb = EarlyStopping(monitor='val_loss', mode='min', patience = 1, verbose = 1)"
   ]
  },
  {
   "cell_type": "code",
   "execution_count": 34,
   "id": "7d5f785b",
   "metadata": {},
   "outputs": [],
   "source": [
    "from tensorflow.keras.optimizers import Adam"
   ]
  },
  {
   "cell_type": "code",
   "execution_count": 35,
   "id": "5130fa1b",
   "metadata": {},
   "outputs": [],
   "source": [
    "model.compile(optimizer=Adam(learning_rate=0.001),loss='binary_crossentropy',metrics=['accuracy'])"
   ]
  },
  {
   "cell_type": "code",
   "execution_count": 36,
   "id": "8daa013b",
   "metadata": {},
   "outputs": [
    {
     "name": "stdout",
     "output_type": "stream",
     "text": [
      "Epoch 1/50\n",
      "13/13 [==============================] - 4s 203ms/step - loss: 0.5588 - accuracy: 0.7207 - val_loss: 0.6710 - val_accuracy: 0.7333 - lr: 0.0010\n",
      "Epoch 2/50\n",
      "13/13 [==============================] - 2s 181ms/step - loss: 0.5117 - accuracy: 0.7681 - val_loss: 0.6675 - val_accuracy: 0.7048 - lr: 0.0010\n",
      "Epoch 3/50\n",
      "13/13 [==============================] - ETA: 0s - loss: 0.5176 - accuracy: 0.7631\n",
      "Epoch 3: ReduceLROnPlateau reducing learning rate to 0.0003000000142492354.\n",
      "13/13 [==============================] - 2s 172ms/step - loss: 0.5176 - accuracy: 0.7631 - val_loss: 0.7052 - val_accuracy: 0.2857 - lr: 0.0010\n",
      "Epoch 3: early stopping\n"
     ]
    }
   ],
   "source": [
    "history = model.fit(training_generator,validation_data = test_generator,epochs=50, callbacks=[es_cb,rlp_cb])"
   ]
  },
  {
   "cell_type": "code",
   "execution_count": null,
   "id": "8db7dc1d",
   "metadata": {},
   "outputs": [],
   "source": []
  },
  {
   "cell_type": "code",
   "execution_count": null,
   "id": "99b02a1b",
   "metadata": {},
   "outputs": [],
   "source": []
  },
  {
   "cell_type": "code",
   "execution_count": null,
   "id": "881d688f",
   "metadata": {},
   "outputs": [],
   "source": []
  }
 ],
 "metadata": {
  "kernelspec": {
   "display_name": "Python 3 (ipykernel)",
   "language": "python",
   "name": "python3"
  },
  "language_info": {
   "codemirror_mode": {
    "name": "ipython",
    "version": 3
   },
   "file_extension": ".py",
   "mimetype": "text/x-python",
   "name": "python",
   "nbconvert_exporter": "python",
   "pygments_lexer": "ipython3",
   "version": "3.9.7"
  }
 },
 "nbformat": 4,
 "nbformat_minor": 5
}
